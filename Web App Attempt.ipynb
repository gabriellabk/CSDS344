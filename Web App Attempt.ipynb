{
 "cells": [
  {
   "cell_type": "markdown",
   "metadata": {},
   "source": [
    "to kill processes: sudo lsof -i:5000 then kill (PID provided)"
   ]
  },
  {
   "cell_type": "code",
   "execution_count": null,
   "metadata": {},
   "outputs": [
    {
     "name": "stdout",
     "output_type": "stream",
     "text": [
      " * Serving Flask app \"__main__\" (lazy loading)\n",
      " * Environment: production\n",
      "\u001b[31m   WARNING: This is a development server. Do not use it in a production deployment.\u001b[0m\n",
      "\u001b[2m   Use a production WSGI server instead.\u001b[0m\n",
      " * Debug mode: off\n"
     ]
    },
    {
     "name": "stderr",
     "output_type": "stream",
     "text": [
      " * Running on http://127.0.0.1:5000/ (Press CTRL+C to quit)\n",
      "127.0.0.1 - - [28/Nov/2020 01:12:36] \"\u001b[37mGET / HTTP/1.1\u001b[0m\" 200 -\n",
      "127.0.0.1 - - [28/Nov/2020 01:12:45] \"\u001b[33mGET /action_page.php?veggies=v2&veggies=v3&protein=p2&protein=p4&grains=g2&grains=g3 HTTP/1.1\u001b[0m\" 404 -\n"
     ]
    }
   ],
   "source": [
    "from flask import Flask, render_template\n",
    "app = Flask(__name__)\n",
    "\n",
    "@app.route(\"/\")\n",
    "def main():\n",
    "    return render_template('index.html')\n",
    "\n",
    "if __name__ == \"__main__\":\n",
    "    app.run()"
   ]
  },
  {
   "cell_type": "markdown",
   "metadata": {},
   "source": [
    "^^we could manually input ingredients into the html, need to also match the action pages\n",
    "output: http://127.0.0.1:5000/action_page.php?veggies=v1&veggies=v3&protein=p1&protein=p4&grains=g2&grains=g3 -- match to recipes (get those ingredients, query db, then match to output)\n",
    "\n",
    "php tutorial: https://www.w3schools.com/php/default.asp\n",
    "\n",
    "convert to match our database vv (is this next chunk necessary)"
   ]
  },
  {
   "cell_type": "code",
   "execution_count": null,
   "metadata": {},
   "outputs": [],
   "source": [
    "#!/usr/bin/env python3\n",
    "# -*- coding: utf-8 -*-\n",
    "\"\"\"\n",
    "testdbconn: Test MySQL Database Connection\n",
    "\"\"\"\n",
    "import sys\n",
    "import MySQLdb\n",
    "\n",
    "print(sys.version_info)   # Print Python version for debugging\n",
    "print('--------------')\n",
    "conn = None  # Database connection\n",
    "\n",
    "try:\n",
    "    # Open database connection.\n",
    "    # Parameters are: (server_hostname, username, password, database_name, server_port=3306)\n",
    "    conn = MySQLdb.connect('localhost', 'testuser', 'xxxx', 'testdb')\n",
    "    print('Connected...')\n",
    "\n",
    "    # Get a cursor from the connection, for traversing the records in result-set\n",
    "    cursor = conn.cursor()\n",
    "\n",
    "    # Execute a MySQL query via execute()\n",
    "    cursor.execute('SELECT VERSION()')\n",
    "    #cursor.execute('SELECT xxx')   # uncomment to trigger an exception\n",
    "\n",
    "    # Fetch one (current) row into a tuple\n",
    "    version = cursor.fetchone()\n",
    "    print('Database version: {}'.format(version))  # one-item tuple\n",
    "\n",
    "except MySQLdb.Error as e:\n",
    "    print('error {}: {}'.format(e.args[0], e.args[1]))  # Error code number, description\n",
    "    sys.exit(1)  # Raise a SystemExit exception for cleanup, but honor finally-block\n",
    "\n",
    "finally:\n",
    "    print('finally...')\n",
    "    if conn:\n",
    "        # Always close the connection\n",
    "        conn.close()\n",
    "        print('Closed...')"
   ]
  },
  {
   "cell_type": "markdown",
   "metadata": {},
   "source": [
    "Database and Web Apps:\n",
    "https://www3.ntu.edu.sg/home/ehchua/programming/webprogramming/Python2_Apps.html\n",
    "\n",
    "Web App Tut:\n",
    "https://realpython.com/python-web-applications/\n",
    "\n",
    "HTML select tut:\n",
    "https://www.w3schools.com/tags/tag_select.asp\n",
    "\n",
    "Web App using mySQL tut:\n",
    "https://code.tutsplus.com/tutorials/creating-a-web-app-from-scratch-using-python-flask-and-mysql--cms-22972"
   ]
  },
  {
   "cell_type": "markdown",
   "metadata": {},
   "source": [
    "Action steps:\n",
    "- php \n",
    "- connect to db"
   ]
  }
 ],
 "metadata": {
  "kernelspec": {
   "display_name": "Python 3",
   "language": "python",
   "name": "python3"
  },
  "language_info": {
   "codemirror_mode": {
    "name": "ipython",
    "version": 3
   },
   "file_extension": ".py",
   "mimetype": "text/x-python",
   "name": "python",
   "nbconvert_exporter": "python",
   "pygments_lexer": "ipython3",
   "version": "3.8.4"
  }
 },
 "nbformat": 4,
 "nbformat_minor": 4
}
