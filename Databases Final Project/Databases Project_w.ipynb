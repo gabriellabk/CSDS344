{
 "cells": [
  {
   "cell_type": "markdown",
   "metadata": {},
   "source": [
    "# Imports"
   ]
  },
  {
   "cell_type": "code",
   "execution_count": 29,
   "metadata": {},
   "outputs": [],
   "source": [
    "import pandas as pd\n",
    "import sqlite3"
   ]
  },
  {
   "cell_type": "markdown",
   "metadata": {},
   "source": [
    "# Read in recipe csv"
   ]
  },
  {
   "cell_type": "code",
   "execution_count": 30,
   "metadata": {},
   "outputs": [
    {
     "data": {
      "text/html": [
       "<div>\n",
       "<style scoped>\n",
       "    .dataframe tbody tr th:only-of-type {\n",
       "        vertical-align: middle;\n",
       "    }\n",
       "\n",
       "    .dataframe tbody tr th {\n",
       "        vertical-align: top;\n",
       "    }\n",
       "\n",
       "    .dataframe thead th {\n",
       "        text-align: right;\n",
       "    }\n",
       "</style>\n",
       "<table border=\"1\" class=\"dataframe\">\n",
       "  <thead>\n",
       "    <tr style=\"text-align: right;\">\n",
       "      <th></th>\n",
       "      <th>name</th>\n",
       "      <th>id</th>\n",
       "      <th>minutes</th>\n",
       "      <th>contributor_id</th>\n",
       "      <th>submitted</th>\n",
       "      <th>tags</th>\n",
       "      <th>nutrition</th>\n",
       "      <th>n_steps</th>\n",
       "      <th>steps</th>\n",
       "      <th>description</th>\n",
       "      <th>ingredients</th>\n",
       "      <th>n_ingredients</th>\n",
       "    </tr>\n",
       "  </thead>\n",
       "  <tbody>\n",
       "    <tr>\n",
       "      <th>0</th>\n",
       "      <td>arriba   baked winter squash mexican style</td>\n",
       "      <td>137739</td>\n",
       "      <td>55</td>\n",
       "      <td>47892</td>\n",
       "      <td>2005-09-16</td>\n",
       "      <td>['60-minutes-or-less', 'time-to-make', 'course...</td>\n",
       "      <td>[51.5, 0.0, 13.0, 0.0, 2.0, 0.0, 4.0]</td>\n",
       "      <td>11</td>\n",
       "      <td>['make a choice and proceed with recipe', 'dep...</td>\n",
       "      <td>autumn is my favorite time of year to cook! th...</td>\n",
       "      <td>['winter squash', 'mexican seasoning', 'mixed ...</td>\n",
       "      <td>7</td>\n",
       "    </tr>\n",
       "    <tr>\n",
       "      <th>1</th>\n",
       "      <td>a bit different  breakfast pizza</td>\n",
       "      <td>31490</td>\n",
       "      <td>30</td>\n",
       "      <td>26278</td>\n",
       "      <td>2002-06-17</td>\n",
       "      <td>['30-minutes-or-less', 'time-to-make', 'course...</td>\n",
       "      <td>[173.4, 18.0, 0.0, 17.0, 22.0, 35.0, 1.0]</td>\n",
       "      <td>9</td>\n",
       "      <td>['preheat oven to 425 degrees f', 'press dough...</td>\n",
       "      <td>this recipe calls for the crust to be prebaked...</td>\n",
       "      <td>['prepared pizza crust', 'sausage patty', 'egg...</td>\n",
       "      <td>6</td>\n",
       "    </tr>\n",
       "    <tr>\n",
       "      <th>2</th>\n",
       "      <td>all in the kitchen  chili</td>\n",
       "      <td>112140</td>\n",
       "      <td>130</td>\n",
       "      <td>196586</td>\n",
       "      <td>2005-02-25</td>\n",
       "      <td>['time-to-make', 'course', 'preparation', 'mai...</td>\n",
       "      <td>[269.8, 22.0, 32.0, 48.0, 39.0, 27.0, 5.0]</td>\n",
       "      <td>6</td>\n",
       "      <td>['brown ground beef in large pot', 'add choppe...</td>\n",
       "      <td>this modified version of 'mom's' chili was a h...</td>\n",
       "      <td>['ground beef', 'yellow onions', 'diced tomato...</td>\n",
       "      <td>13</td>\n",
       "    </tr>\n",
       "    <tr>\n",
       "      <th>3</th>\n",
       "      <td>alouette  potatoes</td>\n",
       "      <td>59389</td>\n",
       "      <td>45</td>\n",
       "      <td>68585</td>\n",
       "      <td>2003-04-14</td>\n",
       "      <td>['60-minutes-or-less', 'time-to-make', 'course...</td>\n",
       "      <td>[368.1, 17.0, 10.0, 2.0, 14.0, 8.0, 20.0]</td>\n",
       "      <td>11</td>\n",
       "      <td>['place potatoes in a large pot of lightly sal...</td>\n",
       "      <td>this is a super easy, great tasting, make ahea...</td>\n",
       "      <td>['spreadable cheese with garlic and herbs', 'n...</td>\n",
       "      <td>11</td>\n",
       "    </tr>\n",
       "    <tr>\n",
       "      <th>4</th>\n",
       "      <td>amish  tomato ketchup  for canning</td>\n",
       "      <td>44061</td>\n",
       "      <td>190</td>\n",
       "      <td>41706</td>\n",
       "      <td>2002-10-25</td>\n",
       "      <td>['weeknight', 'time-to-make', 'course', 'main-...</td>\n",
       "      <td>[352.9, 1.0, 337.0, 23.0, 3.0, 0.0, 28.0]</td>\n",
       "      <td>5</td>\n",
       "      <td>['mix all ingredients&amp; boil for 2 1 / 2 hours ...</td>\n",
       "      <td>my dh's amish mother raised him on this recipe...</td>\n",
       "      <td>['tomato juice', 'apple cider vinegar', 'sugar...</td>\n",
       "      <td>8</td>\n",
       "    </tr>\n",
       "  </tbody>\n",
       "</table>\n",
       "</div>"
      ],
      "text/plain": [
       "                                         name      id  minutes  \\\n",
       "0  arriba   baked winter squash mexican style  137739       55   \n",
       "1            a bit different  breakfast pizza   31490       30   \n",
       "2                   all in the kitchen  chili  112140      130   \n",
       "3                          alouette  potatoes   59389       45   \n",
       "4          amish  tomato ketchup  for canning   44061      190   \n",
       "\n",
       "   contributor_id   submitted  \\\n",
       "0           47892  2005-09-16   \n",
       "1           26278  2002-06-17   \n",
       "2          196586  2005-02-25   \n",
       "3           68585  2003-04-14   \n",
       "4           41706  2002-10-25   \n",
       "\n",
       "                                                tags  \\\n",
       "0  ['60-minutes-or-less', 'time-to-make', 'course...   \n",
       "1  ['30-minutes-or-less', 'time-to-make', 'course...   \n",
       "2  ['time-to-make', 'course', 'preparation', 'mai...   \n",
       "3  ['60-minutes-or-less', 'time-to-make', 'course...   \n",
       "4  ['weeknight', 'time-to-make', 'course', 'main-...   \n",
       "\n",
       "                                    nutrition  n_steps  \\\n",
       "0       [51.5, 0.0, 13.0, 0.0, 2.0, 0.0, 4.0]       11   \n",
       "1   [173.4, 18.0, 0.0, 17.0, 22.0, 35.0, 1.0]        9   \n",
       "2  [269.8, 22.0, 32.0, 48.0, 39.0, 27.0, 5.0]        6   \n",
       "3   [368.1, 17.0, 10.0, 2.0, 14.0, 8.0, 20.0]       11   \n",
       "4   [352.9, 1.0, 337.0, 23.0, 3.0, 0.0, 28.0]        5   \n",
       "\n",
       "                                               steps  \\\n",
       "0  ['make a choice and proceed with recipe', 'dep...   \n",
       "1  ['preheat oven to 425 degrees f', 'press dough...   \n",
       "2  ['brown ground beef in large pot', 'add choppe...   \n",
       "3  ['place potatoes in a large pot of lightly sal...   \n",
       "4  ['mix all ingredients& boil for 2 1 / 2 hours ...   \n",
       "\n",
       "                                         description  \\\n",
       "0  autumn is my favorite time of year to cook! th...   \n",
       "1  this recipe calls for the crust to be prebaked...   \n",
       "2  this modified version of 'mom's' chili was a h...   \n",
       "3  this is a super easy, great tasting, make ahea...   \n",
       "4  my dh's amish mother raised him on this recipe...   \n",
       "\n",
       "                                         ingredients  n_ingredients  \n",
       "0  ['winter squash', 'mexican seasoning', 'mixed ...              7  \n",
       "1  ['prepared pizza crust', 'sausage patty', 'egg...              6  \n",
       "2  ['ground beef', 'yellow onions', 'diced tomato...             13  \n",
       "3  ['spreadable cheese with garlic and herbs', 'n...             11  \n",
       "4  ['tomato juice', 'apple cider vinegar', 'sugar...              8  "
      ]
     },
     "execution_count": 30,
     "metadata": {},
     "output_type": "execute_result"
    }
   ],
   "source": [
    "df = pd.read_csv(\"RAW_recipes.csv\")\n",
    "df.head()"
   ]
  },
  {
   "cell_type": "markdown",
   "metadata": {},
   "source": [
    "# Create a Database"
   ]
  },
  {
   "cell_type": "code",
   "execution_count": 31,
   "metadata": {},
   "outputs": [],
   "source": [
    "conn = sqlite3.connect(\"RECIPE_DATABASE.db\")"
   ]
  },
  {
   "cell_type": "markdown",
   "metadata": {},
   "source": [
    "# Insert the recipes table into our database"
   ]
  },
  {
   "cell_type": "code",
   "execution_count": 32,
   "metadata": {},
   "outputs": [
    {
     "ename": "ValueError",
     "evalue": "Table 'Original_Receipe_Table' already exists.",
     "output_type": "error",
     "traceback": [
      "\u001b[0;31m---------------------------------------------------------------------------\u001b[0m",
      "\u001b[0;31mValueError\u001b[0m                                Traceback (most recent call last)",
      "\u001b[0;32m<ipython-input-32-5cca7874e3e1>\u001b[0m in \u001b[0;36m<module>\u001b[0;34m\u001b[0m\n\u001b[0;32m----> 1\u001b[0;31m \u001b[0mdf\u001b[0m\u001b[0;34m.\u001b[0m\u001b[0mto_sql\u001b[0m\u001b[0;34m(\u001b[0m\u001b[0;34m'Original_Receipe_Table'\u001b[0m\u001b[0;34m,\u001b[0m \u001b[0mconn\u001b[0m\u001b[0;34m)\u001b[0m\u001b[0;34m\u001b[0m\u001b[0;34m\u001b[0m\u001b[0m\n\u001b[0m",
      "\u001b[0;32m/Library/Frameworks/Python.framework/Versions/3.8/lib/python3.8/site-packages/pandas/core/generic.py\u001b[0m in \u001b[0;36mto_sql\u001b[0;34m(self, name, con, schema, if_exists, index, index_label, chunksize, dtype, method)\u001b[0m\n\u001b[1;32m   2603\u001b[0m         \u001b[0;32mfrom\u001b[0m \u001b[0mpandas\u001b[0m\u001b[0;34m.\u001b[0m\u001b[0mio\u001b[0m \u001b[0;32mimport\u001b[0m \u001b[0msql\u001b[0m\u001b[0;34m\u001b[0m\u001b[0;34m\u001b[0m\u001b[0m\n\u001b[1;32m   2604\u001b[0m \u001b[0;34m\u001b[0m\u001b[0m\n\u001b[0;32m-> 2605\u001b[0;31m         sql.to_sql(\n\u001b[0m\u001b[1;32m   2606\u001b[0m             \u001b[0mself\u001b[0m\u001b[0;34m,\u001b[0m\u001b[0;34m\u001b[0m\u001b[0;34m\u001b[0m\u001b[0m\n\u001b[1;32m   2607\u001b[0m             \u001b[0mname\u001b[0m\u001b[0;34m,\u001b[0m\u001b[0;34m\u001b[0m\u001b[0;34m\u001b[0m\u001b[0m\n",
      "\u001b[0;32m/Library/Frameworks/Python.framework/Versions/3.8/lib/python3.8/site-packages/pandas/io/sql.py\u001b[0m in \u001b[0;36mto_sql\u001b[0;34m(frame, name, con, schema, if_exists, index, index_label, chunksize, dtype, method)\u001b[0m\n\u001b[1;32m    587\u001b[0m         )\n\u001b[1;32m    588\u001b[0m \u001b[0;34m\u001b[0m\u001b[0m\n\u001b[0;32m--> 589\u001b[0;31m     pandas_sql.to_sql(\n\u001b[0m\u001b[1;32m    590\u001b[0m         \u001b[0mframe\u001b[0m\u001b[0;34m,\u001b[0m\u001b[0;34m\u001b[0m\u001b[0;34m\u001b[0m\u001b[0m\n\u001b[1;32m    591\u001b[0m         \u001b[0mname\u001b[0m\u001b[0;34m,\u001b[0m\u001b[0;34m\u001b[0m\u001b[0;34m\u001b[0m\u001b[0m\n",
      "\u001b[0;32m/Library/Frameworks/Python.framework/Versions/3.8/lib/python3.8/site-packages/pandas/io/sql.py\u001b[0m in \u001b[0;36mto_sql\u001b[0;34m(self, frame, name, if_exists, index, index_label, schema, chunksize, dtype, method)\u001b[0m\n\u001b[1;32m   1825\u001b[0m             \u001b[0mdtype\u001b[0m\u001b[0;34m=\u001b[0m\u001b[0mdtype\u001b[0m\u001b[0;34m,\u001b[0m\u001b[0;34m\u001b[0m\u001b[0;34m\u001b[0m\u001b[0m\n\u001b[1;32m   1826\u001b[0m         )\n\u001b[0;32m-> 1827\u001b[0;31m         \u001b[0mtable\u001b[0m\u001b[0;34m.\u001b[0m\u001b[0mcreate\u001b[0m\u001b[0;34m(\u001b[0m\u001b[0;34m)\u001b[0m\u001b[0;34m\u001b[0m\u001b[0;34m\u001b[0m\u001b[0m\n\u001b[0m\u001b[1;32m   1828\u001b[0m         \u001b[0mtable\u001b[0m\u001b[0;34m.\u001b[0m\u001b[0minsert\u001b[0m\u001b[0;34m(\u001b[0m\u001b[0mchunksize\u001b[0m\u001b[0;34m,\u001b[0m \u001b[0mmethod\u001b[0m\u001b[0;34m)\u001b[0m\u001b[0;34m\u001b[0m\u001b[0;34m\u001b[0m\u001b[0m\n\u001b[1;32m   1829\u001b[0m \u001b[0;34m\u001b[0m\u001b[0m\n",
      "\u001b[0;32m/Library/Frameworks/Python.framework/Versions/3.8/lib/python3.8/site-packages/pandas/io/sql.py\u001b[0m in \u001b[0;36mcreate\u001b[0;34m(self)\u001b[0m\n\u001b[1;32m    721\u001b[0m         \u001b[0;32mif\u001b[0m \u001b[0mself\u001b[0m\u001b[0;34m.\u001b[0m\u001b[0mexists\u001b[0m\u001b[0;34m(\u001b[0m\u001b[0;34m)\u001b[0m\u001b[0;34m:\u001b[0m\u001b[0;34m\u001b[0m\u001b[0;34m\u001b[0m\u001b[0m\n\u001b[1;32m    722\u001b[0m             \u001b[0;32mif\u001b[0m \u001b[0mself\u001b[0m\u001b[0;34m.\u001b[0m\u001b[0mif_exists\u001b[0m \u001b[0;34m==\u001b[0m \u001b[0;34m\"fail\"\u001b[0m\u001b[0;34m:\u001b[0m\u001b[0;34m\u001b[0m\u001b[0;34m\u001b[0m\u001b[0m\n\u001b[0;32m--> 723\u001b[0;31m                 \u001b[0;32mraise\u001b[0m \u001b[0mValueError\u001b[0m\u001b[0;34m(\u001b[0m\u001b[0;34mf\"Table '{self.name}' already exists.\"\u001b[0m\u001b[0;34m)\u001b[0m\u001b[0;34m\u001b[0m\u001b[0;34m\u001b[0m\u001b[0m\n\u001b[0m\u001b[1;32m    724\u001b[0m             \u001b[0;32melif\u001b[0m \u001b[0mself\u001b[0m\u001b[0;34m.\u001b[0m\u001b[0mif_exists\u001b[0m \u001b[0;34m==\u001b[0m \u001b[0;34m\"replace\"\u001b[0m\u001b[0;34m:\u001b[0m\u001b[0;34m\u001b[0m\u001b[0;34m\u001b[0m\u001b[0m\n\u001b[1;32m    725\u001b[0m                 \u001b[0mself\u001b[0m\u001b[0;34m.\u001b[0m\u001b[0mpd_sql\u001b[0m\u001b[0;34m.\u001b[0m\u001b[0mdrop_table\u001b[0m\u001b[0;34m(\u001b[0m\u001b[0mself\u001b[0m\u001b[0;34m.\u001b[0m\u001b[0mname\u001b[0m\u001b[0;34m,\u001b[0m \u001b[0mself\u001b[0m\u001b[0;34m.\u001b[0m\u001b[0mschema\u001b[0m\u001b[0;34m)\u001b[0m\u001b[0;34m\u001b[0m\u001b[0;34m\u001b[0m\u001b[0m\n",
      "\u001b[0;31mValueError\u001b[0m: Table 'Original_Receipe_Table' already exists."
     ]
    }
   ],
   "source": [
    "df.to_sql('Original_Receipe_Table', conn)"
   ]
  },
  {
   "cell_type": "markdown",
   "metadata": {},
   "source": [
    "# Select Ingredients From Database"
   ]
  },
  {
   "cell_type": "code",
   "execution_count": 33,
   "metadata": {},
   "outputs": [
    {
     "data": {
      "text/html": [
       "<div>\n",
       "<style scoped>\n",
       "    .dataframe tbody tr th:only-of-type {\n",
       "        vertical-align: middle;\n",
       "    }\n",
       "\n",
       "    .dataframe tbody tr th {\n",
       "        vertical-align: top;\n",
       "    }\n",
       "\n",
       "    .dataframe thead th {\n",
       "        text-align: right;\n",
       "    }\n",
       "</style>\n",
       "<table border=\"1\" class=\"dataframe\">\n",
       "  <thead>\n",
       "    <tr style=\"text-align: right;\">\n",
       "      <th></th>\n",
       "      <th>ingredients</th>\n",
       "    </tr>\n",
       "  </thead>\n",
       "  <tbody>\n",
       "    <tr>\n",
       "      <th>0</th>\n",
       "      <td>['winter squash', 'mexican seasoning', 'mixed ...</td>\n",
       "    </tr>\n",
       "    <tr>\n",
       "      <th>1</th>\n",
       "      <td>['prepared pizza crust', 'sausage patty', 'egg...</td>\n",
       "    </tr>\n",
       "    <tr>\n",
       "      <th>2</th>\n",
       "      <td>['ground beef', 'yellow onions', 'diced tomato...</td>\n",
       "    </tr>\n",
       "    <tr>\n",
       "      <th>3</th>\n",
       "      <td>['spreadable cheese with garlic and herbs', 'n...</td>\n",
       "    </tr>\n",
       "    <tr>\n",
       "      <th>4</th>\n",
       "      <td>['tomato juice', 'apple cider vinegar', 'sugar...</td>\n",
       "    </tr>\n",
       "    <tr>\n",
       "      <th>...</th>\n",
       "      <td>...</td>\n",
       "    </tr>\n",
       "    <tr>\n",
       "      <th>230470</th>\n",
       "      <td>['celery', 'onion', 'green sweet pepper', 'gar...</td>\n",
       "    </tr>\n",
       "    <tr>\n",
       "      <th>230471</th>\n",
       "      <td>['paprika', 'salt', 'garlic powder', 'onion po...</td>\n",
       "    </tr>\n",
       "    <tr>\n",
       "      <th>230472</th>\n",
       "      <td>['hard-cooked eggs', 'mayonnaise', 'dijon must...</td>\n",
       "    </tr>\n",
       "    <tr>\n",
       "      <th>230473</th>\n",
       "      <td>['butter', 'eagle brand condensed milk', 'ligh...</td>\n",
       "    </tr>\n",
       "    <tr>\n",
       "      <th>230474</th>\n",
       "      <td>['granulated sugar', 'shortening', 'eggs', 'fl...</td>\n",
       "    </tr>\n",
       "  </tbody>\n",
       "</table>\n",
       "<p>230475 rows × 1 columns</p>\n",
       "</div>"
      ],
      "text/plain": [
       "                                              ingredients\n",
       "0       ['winter squash', 'mexican seasoning', 'mixed ...\n",
       "1       ['prepared pizza crust', 'sausage patty', 'egg...\n",
       "2       ['ground beef', 'yellow onions', 'diced tomato...\n",
       "3       ['spreadable cheese with garlic and herbs', 'n...\n",
       "4       ['tomato juice', 'apple cider vinegar', 'sugar...\n",
       "...                                                   ...\n",
       "230470  ['celery', 'onion', 'green sweet pepper', 'gar...\n",
       "230471  ['paprika', 'salt', 'garlic powder', 'onion po...\n",
       "230472  ['hard-cooked eggs', 'mayonnaise', 'dijon must...\n",
       "230473  ['butter', 'eagle brand condensed milk', 'ligh...\n",
       "230474  ['granulated sugar', 'shortening', 'eggs', 'fl...\n",
       "\n",
       "[230475 rows x 1 columns]"
      ]
     },
     "execution_count": 33,
     "metadata": {},
     "output_type": "execute_result"
    }
   ],
   "source": [
    "sql_string = 'SELECT DISTINCT ingredients FROM Original_Receipe_Table' \n",
    "df1 = pd.read_sql(sql_string, conn)\n",
    "df1"
   ]
  },
  {
   "cell_type": "markdown",
   "metadata": {},
   "source": [
    "# Loop through to add all ingredient elements to a list"
   ]
  },
  {
   "cell_type": "code",
   "execution_count": 34,
   "metadata": {},
   "outputs": [],
   "source": [
    "ingredientsraw = []\n",
    "for element in df1:\n",
    "    selection = df1.ingredients\n",
    "    ingredientsraw.extend(selection)"
   ]
  },
  {
   "cell_type": "markdown",
   "metadata": {},
   "source": [
    "Test this (note it is in string format)"
   ]
  },
  {
   "cell_type": "code",
   "execution_count": 35,
   "metadata": {},
   "outputs": [
    {
     "data": {
      "text/plain": [
       "\"['granulated sugar', 'shortening', 'eggs', 'flour', 'cream of tartar', 'baking soda', 'vanilla extract']\""
      ]
     },
     "execution_count": 35,
     "metadata": {},
     "output_type": "execute_result"
    }
   ],
   "source": [
    "ingredientsraw.pop()"
   ]
  },
  {
   "cell_type": "markdown",
   "metadata": {},
   "source": [
    "# Convert our list from a string list to tuples"
   ]
  },
  {
   "cell_type": "code",
   "execution_count": 36,
   "metadata": {},
   "outputs": [],
   "source": [
    "ingredientsclean1 = [eval(ele) for ele in ingredientsraw]"
   ]
  },
  {
   "cell_type": "code",
   "execution_count": 37,
   "metadata": {},
   "outputs": [
    {
     "data": {
      "text/plain": [
       "['butter',\n",
       " 'eagle brand condensed milk',\n",
       " 'light brown sugar',\n",
       " 'sour cream',\n",
       " 'egg',\n",
       " 'extract',\n",
       " 'nutmeg',\n",
       " 'self-rising flour',\n",
       " 'bisquick',\n",
       " 'wooden popsicle sticks']"
      ]
     },
     "execution_count": 37,
     "metadata": {},
     "output_type": "execute_result"
    }
   ],
   "source": [
    "ingredientsclean1.pop()"
   ]
  },
  {
   "cell_type": "markdown",
   "metadata": {},
   "source": [
    "# Convert from list of tuples to normal list (with duplicates)"
   ]
  },
  {
   "cell_type": "code",
   "execution_count": 38,
   "metadata": {},
   "outputs": [],
   "source": [
    "out = [item for t in ingredientsclean1 for item in t]"
   ]
  },
  {
   "cell_type": "code",
   "execution_count": 39,
   "metadata": {},
   "outputs": [
    {
     "data": {
      "text/plain": [
       "['winter squash',\n",
       " 'mexican seasoning',\n",
       " 'mixed spice',\n",
       " 'honey',\n",
       " 'butter',\n",
       " 'olive oil',\n",
       " 'salt',\n",
       " 'prepared pizza crust',\n",
       " 'sausage patty',\n",
       " 'eggs']"
      ]
     },
     "execution_count": 39,
     "metadata": {},
     "output_type": "execute_result"
    }
   ],
   "source": [
    "out[:10]"
   ]
  },
  {
   "cell_type": "markdown",
   "metadata": {},
   "source": [
    "# Get Unique Ingredients"
   ]
  },
  {
   "cell_type": "code",
   "execution_count": 40,
   "metadata": {},
   "outputs": [],
   "source": [
    "uniqueingredients = list(set(out))"
   ]
  },
  {
   "cell_type": "code",
   "execution_count": 41,
   "metadata": {},
   "outputs": [
    {
     "data": {
      "text/plain": [
       "['sweet italian sausage',\n",
       " 'grouper fillets',\n",
       " 'hard sourdough pretzels',\n",
       " 'pina colada sorbet',\n",
       " 'puffed kashi',\n",
       " 'pasilla chile',\n",
       " 'strawberry kiwi gelatin powder',\n",
       " 'onion roasted garlic soup mix',\n",
       " 'mori-nu extra firm lite tofu',\n",
       " 'eagle brand condensed milk']"
      ]
     },
     "execution_count": 41,
     "metadata": {},
     "output_type": "execute_result"
    }
   ],
   "source": [
    "uniqueingredients[:10]"
   ]
  },
  {
   "cell_type": "markdown",
   "metadata": {},
   "source": [
    "**How Many Unique Ingredients?**"
   ]
  },
  {
   "cell_type": "code",
   "execution_count": 42,
   "metadata": {},
   "outputs": [
    {
     "name": "stdout",
     "output_type": "stream",
     "text": [
      "14942\n"
     ]
    }
   ],
   "source": [
    "print(len(uniqueingredients))"
   ]
  },
  {
   "cell_type": "markdown",
   "metadata": {},
   "source": [
    "**How Many Raw Ingredients**"
   ]
  },
  {
   "cell_type": "code",
   "execution_count": 43,
   "metadata": {},
   "outputs": [
    {
     "name": "stdout",
     "output_type": "stream",
     "text": [
      "2089910\n"
     ]
    }
   ],
   "source": [
    "print(len(out))"
   ]
  },
  {
   "cell_type": "markdown",
   "metadata": {},
   "source": [
    "# Creation of Table of Fruits"
   ]
  },
  {
   "cell_type": "code",
   "execution_count": 44,
   "metadata": {},
   "outputs": [],
   "source": [
    "with open('fruits.txt') as f:\n",
    "    Fruit = [line.rstrip() for line in f]"
   ]
  },
  {
   "cell_type": "code",
   "execution_count": 45,
   "metadata": {},
   "outputs": [],
   "source": [
    "def removedupe(x):\n",
    "  return list(dict.fromkeys(x))\n",
    "Fruitfinal = removedupe(Fruit)\n",
    "Fruitfinal.sort()"
   ]
  },
  {
   "cell_type": "code",
   "execution_count": 46,
   "metadata": {},
   "outputs": [
    {
     "data": {
      "text/plain": [
       "1499"
      ]
     },
     "execution_count": 46,
     "metadata": {},
     "output_type": "execute_result"
    }
   ],
   "source": [
    "len(Fruitfinal)"
   ]
  },
  {
   "cell_type": "markdown",
   "metadata": {},
   "source": [
    "# Creation of Table of Vegetables"
   ]
  },
  {
   "cell_type": "code",
   "execution_count": 48,
   "metadata": {},
   "outputs": [],
   "source": [
    "with open('vegetables.txt') as f:\n",
    "    Vegetables = [line.rstrip() for line in f]"
   ]
  },
  {
   "cell_type": "code",
   "execution_count": 49,
   "metadata": {},
   "outputs": [],
   "source": [
    "Vegetablesfinal = removedupe(Vegetables)\n",
    "Vegetablesfinal.sort()"
   ]
  },
  {
   "cell_type": "code",
   "execution_count": 50,
   "metadata": {},
   "outputs": [
    {
     "data": {
      "text/plain": [
       "0"
      ]
     },
     "execution_count": 50,
     "metadata": {},
     "output_type": "execute_result"
    }
   ],
   "source": [
    "len(Vegetablesfinal)"
   ]
  },
  {
   "cell_type": "markdown",
   "metadata": {},
   "source": [
    "# Creation of Table of Proteins"
   ]
  },
  {
   "cell_type": "code",
   "execution_count": 29,
   "metadata": {},
   "outputs": [],
   "source": [
    "with open('protein.txt') as f:\n",
    "    Proteins = [line.rstrip() for line in f]"
   ]
  },
  {
   "cell_type": "code",
   "execution_count": 30,
   "metadata": {},
   "outputs": [],
   "source": [
    "Proteinsfinal = removedupe(Proteins)\n",
    "Proteinsfinal.sort()"
   ]
  },
  {
   "cell_type": "code",
   "execution_count": 31,
   "metadata": {},
   "outputs": [
    {
     "data": {
      "text/plain": [
       "3189"
      ]
     },
     "execution_count": 31,
     "metadata": {},
     "output_type": "execute_result"
    }
   ],
   "source": [
    "len(Proteinsfinal)"
   ]
  },
  {
   "cell_type": "markdown",
   "metadata": {},
   "source": [
    "# Creation of Table of Grains"
   ]
  },
  {
   "cell_type": "code",
   "execution_count": 32,
   "metadata": {},
   "outputs": [],
   "source": [
    "with open('grains.txt') as f:\n",
    "    Grains = [line.rstrip() for line in f]"
   ]
  },
  {
   "cell_type": "code",
   "execution_count": 33,
   "metadata": {},
   "outputs": [],
   "source": [
    "Grainsfinal = removedupe(Grains)\n",
    "Grainsfinal.sort()"
   ]
  },
  {
   "cell_type": "code",
   "execution_count": 34,
   "metadata": {},
   "outputs": [
    {
     "data": {
      "text/plain": [
       "2034"
      ]
     },
     "execution_count": 34,
     "metadata": {},
     "output_type": "execute_result"
    }
   ],
   "source": [
    "len(Grainsfinal)"
   ]
  },
  {
   "cell_type": "markdown",
   "metadata": {},
   "source": [
    "# Creation of Table of Dairy"
   ]
  },
  {
   "cell_type": "code",
   "execution_count": 35,
   "metadata": {},
   "outputs": [],
   "source": [
    "with open('dairy.txt') as f:\n",
    "    Dairy = [line.rstrip() for line in f]"
   ]
  },
  {
   "cell_type": "code",
   "execution_count": 36,
   "metadata": {},
   "outputs": [],
   "source": [
    "Dairyfinal = removedupe(Dairy)\n",
    "Dairyfinal.sort()"
   ]
  },
  {
   "cell_type": "code",
   "execution_count": 37,
   "metadata": {},
   "outputs": [
    {
     "data": {
      "text/plain": [
       "1315"
      ]
     },
     "execution_count": 37,
     "metadata": {},
     "output_type": "execute_result"
    }
   ],
   "source": [
    "len(Dairyfinal)"
   ]
  },
  {
   "cell_type": "markdown",
   "metadata": {},
   "source": [
    "# Creation of Table of Other"
   ]
  },
  {
   "cell_type": "code",
   "execution_count": 38,
   "metadata": {},
   "outputs": [],
   "source": [
    "with open('other.txt') as f:\n",
    "    Other = [line.rstrip() for line in f]"
   ]
  },
  {
   "cell_type": "code",
   "execution_count": 39,
   "metadata": {},
   "outputs": [],
   "source": [
    "Otherfinal = removedupe(Other)\n",
    "Otherfinal.sort()"
   ]
  },
  {
   "cell_type": "code",
   "execution_count": 40,
   "metadata": {},
   "outputs": [
    {
     "data": {
      "text/plain": [
       "4664"
      ]
     },
     "execution_count": 40,
     "metadata": {},
     "output_type": "execute_result"
    }
   ],
   "source": [
    "len(Otherfinal)"
   ]
  },
  {
   "cell_type": "markdown",
   "metadata": {},
   "source": [
    "# Write the cleaned and sorted file and copy to the one we are using"
   ]
  },
  {
   "cell_type": "code",
   "execution_count": 44,
   "metadata": {},
   "outputs": [],
   "source": [
    "with open('otherfinal.txt', 'w') as f:\n",
    "    for item in temp6:\n",
    "        f.write(\"%s\\n\" % item)"
   ]
  },
  {
   "cell_type": "markdown",
   "metadata": {},
   "source": [
    "# Find Ingredients Not Yet Included in Food Group Tables"
   ]
  },
  {
   "cell_type": "code",
   "execution_count": 42,
   "metadata": {},
   "outputs": [],
   "source": [
    "def Diff(li1, li2):\n",
    "    return (list(list(set(li1)-set(li2)) + list(set(li2)-set(li1))))\n",
    "temp = Diff(uniqueingredients, Vegetables)\n",
    "temp2 = Diff(temp, Fruit)\n",
    "temp3 = Diff(temp2, Proteins)\n",
    "temp4 = Diff(temp3, Grains)\n",
    "temp5 = Diff(temp4, Dairy)\n",
    "temp6 = Diff(temp5, Other)"
   ]
  },
  {
   "cell_type": "markdown",
   "metadata": {},
   "source": [
    "**If 0 means we have all ingredients accounted for**"
   ]
  },
  {
   "cell_type": "code",
   "execution_count": 43,
   "metadata": {},
   "outputs": [
    {
     "data": {
      "text/plain": [
       "0"
      ]
     },
     "execution_count": 43,
     "metadata": {},
     "output_type": "execute_result"
    }
   ],
   "source": [
    "len(temp6)"
   ]
  },
  {
   "cell_type": "markdown",
   "metadata": {},
   "source": [
    "**Search for an ingredient that contains a certain word to add to corresponding table**"
   ]
  },
  {
   "cell_type": "code",
   "execution_count": 45,
   "metadata": {},
   "outputs": [],
   "source": [
    "targetlist = [k for k in Proteins if 'chicken' in k]"
   ]
  },
  {
   "cell_type": "code",
   "execution_count": 46,
   "metadata": {},
   "outputs": [
    {
     "data": {
      "text/plain": [
       "['andouille chicken sausage',\n",
       " 'baby chicken',\n",
       " 'baby chickens',\n",
       " 'barbecued chicken',\n",
       " 'betty crocker chicken helper chicken and herb rice',\n",
       " 'blackened chicken seasoning',\n",
       " 'boneless chicken',\n",
       " 'boneless chicken breast',\n",
       " 'boneless chicken breast half',\n",
       " 'boneless chicken breast halves',\n",
       " 'boneless chicken breasts',\n",
       " 'boneless chicken thighs',\n",
       " 'boneless skinless chicken',\n",
       " 'boneless skinless chicken breast',\n",
       " 'boneless skinless chicken breast half',\n",
       " 'boneless skinless chicken breast halves',\n",
       " 'boneless skinless chicken breasts',\n",
       " 'boneless skinless chicken breasts in teriyaki sauce',\n",
       " 'boneless skinless chicken cutlet',\n",
       " 'boneless skinless chicken cutlets',\n",
       " 'boneless skinless chicken legs',\n",
       " 'boneless skinless chicken pieces',\n",
       " 'boneless skinless chicken thighs',\n",
       " 'boneless skinless smoked chicken breasts',\n",
       " 'boneless skinned chicken breast',\n",
       " 'boneless skinned chicken breasts',\n",
       " 'breaded chicken cutlets',\n",
       " 'breaded chicken nuggets',\n",
       " 'breaded chicken patties',\n",
       " 'breaded chicken tenders',\n",
       " 'broiler chicken',\n",
       " 'broiler chickens',\n",
       " 'broiler-fryer chicken',\n",
       " 'broiler-fryer chickens',\n",
       " 'butter chicken paste',\n",
       " \"campbell's chicken gumbo soup\",\n",
       " \"campbell's chicken soup\",\n",
       " \"campbell's condensed chicken broth\",\n",
       " \"campbell's cream of chicken sou\",\n",
       " \"campbell's cream of chicken soup\",\n",
       " 'canned chicken',\n",
       " 'canned chicken breast meat',\n",
       " 'canned chicken broth',\n",
       " 'chicken',\n",
       " 'chicken & herb classico rice-a-roni',\n",
       " \"chicken a 'la king\",\n",
       " 'chicken ala king',\n",
       " 'chicken and broccoli flavor rice-a-roni',\n",
       " 'chicken and corn soup',\n",
       " 'chicken and garlic rice',\n",
       " 'chicken and herb couscous mix',\n",
       " 'chicken and rice soup',\n",
       " 'chicken and roasted garlic ravioli',\n",
       " 'chicken and turkey sausage',\n",
       " 'chicken and wild rice soup',\n",
       " 'chicken and wild rice soup mix',\n",
       " 'chicken back',\n",
       " 'chicken backs and necks',\n",
       " 'chicken bacon',\n",
       " 'chicken base',\n",
       " 'chicken bone',\n",
       " 'chicken bones',\n",
       " 'chicken bouillon',\n",
       " 'chicken bouillon concentrate',\n",
       " 'chicken bouillon cube',\n",
       " 'chicken bouillon cubes',\n",
       " 'chicken bouillon granule',\n",
       " 'chicken bouillon granules',\n",
       " 'chicken bouillon mix',\n",
       " 'chicken breast',\n",
       " 'chicken breast fillet',\n",
       " 'chicken breast fillets',\n",
       " 'chicken breast half',\n",
       " 'chicken breast halve',\n",
       " 'chicken breast halves',\n",
       " 'chicken breast tenders',\n",
       " 'chicken breasts',\n",
       " 'chicken breasts marinated in tandoori paste',\n",
       " 'chicken broth',\n",
       " 'chicken broth soup',\n",
       " 'chicken broth with roasted garlic',\n",
       " 'chicken carcass',\n",
       " 'chicken carcasses',\n",
       " 'chicken chilli',\n",
       " 'chicken chunks',\n",
       " 'chicken coating mix',\n",
       " 'chicken consomme',\n",
       " 'chicken curry powder',\n",
       " 'chicken cutlet',\n",
       " 'chicken cutlets',\n",
       " 'chicken drummettes',\n",
       " 'chicken drumstick',\n",
       " 'chicken drumsticks',\n",
       " 'chicken fat',\n",
       " 'chicken feet',\n",
       " 'chicken fillet',\n",
       " 'chicken fillets',\n",
       " 'chicken flavor instant bouillon',\n",
       " 'chicken flavor stuffing mix',\n",
       " 'chicken flavored bullion cube',\n",
       " 'chicken flavored bullion cubes',\n",
       " 'chicken frankfurters',\n",
       " 'chicken giblets',\n",
       " 'chicken gizzard',\n",
       " 'chicken gizzards',\n",
       " 'chicken gravy',\n",
       " 'chicken gravy mix',\n",
       " 'chicken gumbo soup',\n",
       " 'chicken halves',\n",
       " 'chicken heart',\n",
       " 'chicken hot dogs',\n",
       " 'chicken in a biscuit crackers',\n",
       " 'chicken leg',\n",
       " 'chicken leg meat',\n",
       " 'chicken leg quarter',\n",
       " 'chicken leg quarters',\n",
       " 'chicken legs',\n",
       " 'chicken legs with thigh',\n",
       " 'chicken legs-thighs',\n",
       " 'chicken liver',\n",
       " 'chicken livers',\n",
       " 'chicken meat',\n",
       " 'chicken mesquite marinade',\n",
       " 'chicken mid-joint wings',\n",
       " 'chicken mushroom soup',\n",
       " 'chicken neck',\n",
       " 'chicken parts',\n",
       " 'chicken piece',\n",
       " 'chicken pieces',\n",
       " 'chicken portions',\n",
       " 'chicken quarters',\n",
       " 'chicken ravioli',\n",
       " 'chicken rice pilaf mix',\n",
       " 'chicken rice soup',\n",
       " 'chicken rice-a-roni',\n",
       " 'chicken salad',\n",
       " 'chicken salt',\n",
       " 'chicken sausage',\n",
       " 'chicken scallops',\n",
       " 'chicken schnitzels',\n",
       " 'chicken seasoning',\n",
       " 'chicken seitan strips',\n",
       " 'chicken soup',\n",
       " 'chicken soup base',\n",
       " 'chicken soup powder',\n",
       " 'chicken stew',\n",
       " 'chicken stock',\n",
       " 'chicken stock cube',\n",
       " 'chicken stock cubes',\n",
       " 'chicken stock paste',\n",
       " 'chicken stock powder',\n",
       " 'chicken stove top stuffing mix',\n",
       " 'chicken strips',\n",
       " 'chicken stuffing mix',\n",
       " 'chicken tamales',\n",
       " 'chicken taquitos',\n",
       " 'chicken tenderloins',\n",
       " 'chicken tenders',\n",
       " 'chicken thigh',\n",
       " 'chicken thigh fillet',\n",
       " 'chicken thigh fillets',\n",
       " 'chicken thigh pieces',\n",
       " 'chicken thighs',\n",
       " 'chicken wing sauce',\n",
       " 'chicken wings',\n",
       " 'chicken-apple sausages',\n",
       " 'chicken-flavored vegetarian seasoning',\n",
       " 'chicken-spinach sausages',\n",
       " 'chili with chicken and beans',\n",
       " 'chunk chicken',\n",
       " 'commercial low-sodium chicken broth',\n",
       " 'condensed chicken and wild rice soup',\n",
       " 'condensed chicken broth',\n",
       " 'condensed chicken broth with garlic & herbs',\n",
       " 'condensed chicken gumbo soup',\n",
       " 'condensed chicken vegetable soup',\n",
       " 'condensed chicken with rice soup',\n",
       " 'condensed cream of chicken soup',\n",
       " 'condensed cream of chicken with herbs soup',\n",
       " 'cooked boneless skinless chicken breast',\n",
       " 'cooked boneless skinless chicken breasts',\n",
       " 'cooked chicken',\n",
       " 'cooked chicken breast',\n",
       " 'cooked chicken breast half',\n",
       " 'cooked chicken breast halves',\n",
       " 'cooked chicken breast strips',\n",
       " 'cooked chicken breasts',\n",
       " 'cooked dark chicken meat',\n",
       " 'cooked italian chicken breasts',\n",
       " 'cooked white chicken meat',\n",
       " 'cream of chicken and broccoli soup',\n",
       " 'cream of chicken and mushroom soup',\n",
       " 'cream of chicken dijon soup',\n",
       " 'cream of chicken soup',\n",
       " 'cream of chicken soup mix',\n",
       " 'cream of roasted chicken with herbs soup',\n",
       " 'creamy chicken verde soup',\n",
       " 'crispy fried chicken skin and fat',\n",
       " 'dark chicken meat',\n",
       " 'de-fatted chicken broth',\n",
       " 'de-fatted chicken stock',\n",
       " 'deli chicken',\n",
       " 'dry instant chicken broth',\n",
       " 'extra-strong chicken broth',\n",
       " 'fat free chicken broth',\n",
       " 'fat free chicken gravy',\n",
       " 'fat free low-sodium cream of chicken soup',\n",
       " 'fat free sodium free chicken broth',\n",
       " 'fat-free chicken broth',\n",
       " 'fat-free cream of chicken soup',\n",
       " 'fat-free gluten-free chicken stock',\n",
       " 'fat-free low-sodium chicken broth',\n",
       " 'franco-american chicken gravy',\n",
       " 'free-range chicken',\n",
       " 'fried chicken',\n",
       " 'frozen chicken nibbles',\n",
       " 'frozen chicken nuggets',\n",
       " 'fryer chicken',\n",
       " 'fryer chickens',\n",
       " 'frying chicken',\n",
       " 'frying chickens',\n",
       " 'gluten-free chicken stock',\n",
       " 'grilled chicken',\n",
       " 'grilled chicken breast',\n",
       " 'grilled chicken breast strips',\n",
       " 'grilled chicken breasts',\n",
       " 'ground chicken',\n",
       " 'ground chicken breast',\n",
       " 'healthy request cream of chicken soup',\n",
       " 'herb-ox very-low-sodium chicken broth',\n",
       " 'homemade chicken broth',\n",
       " 'homemade chicken stock',\n",
       " 'hormel fully cooked chicken breasts with gravy',\n",
       " 'hot chicken broth',\n",
       " 'hot chicken stock',\n",
       " 'instant chicken bouillon',\n",
       " 'instant chicken bouillon granules',\n",
       " 'instant chicken broth',\n",
       " 'instant chicken-flavored broth',\n",
       " 'instant chicken-style consomme soup and seasoning mix',\n",
       " 'italian chicken sausage',\n",
       " 'knorr chicken bouillon',\n",
       " 'lean chicken',\n",
       " 'lean ground chicken',\n",
       " 'light chicken broth',\n",
       " 'lipton instant chicken soup mix',\n",
       " 'low fat chicken in water',\n",
       " 'low sodium chicken broth',\n",
       " 'low sodium chicken stock powder',\n",
       " 'low-fat chicken broth',\n",
       " 'low-fat condensed cream of chicken soup',\n",
       " 'low-fat low-sodium chicken and rice soup',\n",
       " 'low-fat spicy chicken sausage',\n",
       " 'low-sodium chicken bouillon cube',\n",
       " 'low-sodium chicken bouillon cubes',\n",
       " 'low-sodium chicken stock',\n",
       " 'low-sodium condensed cream of chicken soup',\n",
       " 'low-sodium instant chicken bouillon granules',\n",
       " 'low-sodium low-fat chicken broth',\n",
       " 'maggi chicken cubes',\n",
       " 'mccormick white chicken chili seasoning mix',\n",
       " \"mccormick's chicken stir-fry seasoning packet\",\n",
       " 'minced chicken',\n",
       " 'montreal chicken seasoning',\n",
       " 'montreal roasted garlic chicken seasoning',\n",
       " 'morningstar farms meal starters chicken strips',\n",
       " 'no-salt-added chicken broth',\n",
       " 'no-salt-added chicken stock',\n",
       " 'nonfat chicken broth',\n",
       " 'organic free range fat free chicken broth',\n",
       " 'oven-roasted deli chicken',\n",
       " 'pasta roni chicken and brococoli with linguine',\n",
       " 'perdue short cuts original roasted carved chicken breasts',\n",
       " 'popcorn chicken',\n",
       " 'premium chunk chicken',\n",
       " 'progresso chicken broth',\n",
       " 'raw chicken',\n",
       " 'ready-to-serve chicken broth',\n",
       " 'reduced-fat chicken broth',\n",
       " 'reduced-fat cream of chicken soup',\n",
       " 'reduced-fat reduced-sodium condensed cream of chicken soup',\n",
       " 'reduced-sodium chicken broth',\n",
       " 'reduced-sodium chicken flavor stuffing mix',\n",
       " 'reduced-sodium cream of chicken soup',\n",
       " 'reduced-sodium fat-free chicken broth',\n",
       " 'refrigerated taco sauce with seasoned shredded chicken',\n",
       " 'regular-strength chicken broth',\n",
       " 'rich chicken broth',\n",
       " 'roast chicken seasoning',\n",
       " 'roasted chicken breast',\n",
       " 'roasted chicken meat',\n",
       " 'roasted deli chicken',\n",
       " 'roasting chicken',\n",
       " 'roasting chickens',\n",
       " 'rotisserie-cooked chicken',\n",
       " 'shredded chicken with barbecue sauce',\n",
       " 'skinless chicken',\n",
       " 'skinless chicken breast',\n",
       " 'skinless chicken breast fillet',\n",
       " 'skinless chicken breast half',\n",
       " 'skinless chicken breast halves',\n",
       " 'skinless chicken breasts',\n",
       " 'skinless chicken drumsticks',\n",
       " 'skinless chicken leg quarters',\n",
       " 'skinless chicken legs',\n",
       " 'skinless chicken piece',\n",
       " 'skinless chicken pieces',\n",
       " 'skinless chicken quarters',\n",
       " 'skinless chicken thigh',\n",
       " 'skinless chicken thighs',\n",
       " 'skinless dark meat chicken',\n",
       " 'smoked chicken',\n",
       " 'smoked chicken and habanero sausage',\n",
       " 'smoked chicken breast',\n",
       " 'smoked chicken breasts',\n",
       " 'sodium-free chicken broth',\n",
       " 'sodium-free chicken flavor instant bouillon',\n",
       " 'sodium-free chicken stock',\n",
       " 'southwestern chicken strips',\n",
       " 'southwestern-seasoned chicken breast',\n",
       " 'spring chicken',\n",
       " 'stewing chicken',\n",
       " 'stove top low-sodium chicken stuffing mix',\n",
       " 'sun-dried tomato chicken sausage',\n",
       " 'swanson chicken broth',\n",
       " 'sweet asian chicken chili sauce',\n",
       " 'tomato bouillon with chicken flavor',\n",
       " 'tyson fajita chicken strips',\n",
       " \"uncle ben's chicken-flavored wild rice\",\n",
       " 'unsalted chicken stock',\n",
       " 'vegan chicken',\n",
       " 'vegan chicken bouillon powder',\n",
       " 'vegan chicken broth',\n",
       " 'vegan chicken seasoning',\n",
       " 'vegetarian chicken bouillon cube',\n",
       " 'vegetarian chicken bouillon cubes',\n",
       " 'vegetarian chicken bouillon granules',\n",
       " 'vegetarian chicken broth',\n",
       " 'vegetarian chicken pieces',\n",
       " 'vegetarian chicken soup mix',\n",
       " 'vegetarian chicken stock',\n",
       " 'vegetarian chicken strips',\n",
       " 'vegetarian chicken substitute',\n",
       " 'white chicken meat',\n",
       " 'white chicken meat packed in water',\n",
       " 'white meat chicken',\n",
       " 'white-meat chicken quarters',\n",
       " 'whole boneless chicken breast',\n",
       " 'whole boneless chicken breasts',\n",
       " 'whole boneless skinless chicken breast',\n",
       " 'whole boneless skinless chicken breasts',\n",
       " 'whole chicken',\n",
       " 'whole chicken breast',\n",
       " 'whole chicken breasts',\n",
       " 'whole chickens',\n",
       " 'whole skinless chicken breast',\n",
       " 'whole skinless chicken breasts',\n",
       " 'whole wheat chicken & herb couscous',\n",
       " 'worcestershire sauce for chicken',\n",
       " \"wyler's chicken bouillon cubes\",\n",
       " 'young roasting chickens']"
      ]
     },
     "execution_count": 46,
     "metadata": {},
     "output_type": "execute_result"
    }
   ],
   "source": [
    "targetlist"
   ]
  },
  {
   "cell_type": "code",
   "execution_count": 408,
   "metadata": {},
   "outputs": [],
   "source": []
  },
  {
   "cell_type": "code",
   "execution_count": 300,
   "metadata": {
    "collapsed": true
   },
   "outputs": [
    {
     "data": {
      "text/plain": [
       "['',\n",
       " \" confectioner's coating\",\n",
       " 'accent seasoning',\n",
       " 'aceto balsamico',\n",
       " 'achiote',\n",
       " 'achute water',\n",
       " 'advocaat',\n",
       " 'ahmed brand vermicelli',\n",
       " 'aioli',\n",
       " 'ajies dulces',\n",
       " 'ajinomoto',\n",
       " 'ajmoh seeds',\n",
       " 'ajvar',\n",
       " 'ajwain',\n",
       " 'ajwain seed',\n",
       " 'alcaparrado',\n",
       " 'alcohol',\n",
       " 'ale',\n",
       " 'ale 8 soft drin',\n",
       " 'ale 8 soft drink',\n",
       " 'alfredo sauce',\n",
       " 'alfredo sauce mix',\n",
       " 'anchovy packed in oi',\n",
       " 'andouille sausag',\n",
       " 'apple chip',\n",
       " 'artichoke pest',\n",
       " 'baby dill pickl',\n",
       " 'bacon dripping',\n",
       " 'bean stoc',\n",
       " 'beef tenderloi',\n",
       " \"betty crocker's hamburger helper\",\n",
       " 'betty crocker\\'s hamburger helper\"',\n",
       " 'black currant tea bag',\n",
       " 'boneless venison sirloi',\n",
       " 'braunschweiger liver sausag',\n",
       " 'bulk italian sausag',\n",
       " 'campari tomatoe',\n",
       " \"campbell's cheddar cheese soup\",\n",
       " \"campbell's nacho cheese soup\",\n",
       " \"candied pineapple'\",\n",
       " 'candied yam',\n",
       " 'canned tun',\n",
       " 'captain morgan parrot bay coconut rum',\n",
       " \"captain morgan parrot bay coconut rum'\",\n",
       " \"chi-chi's restaurante fiest seasoning mix\",\n",
       " 'chive & onion cream cheese',\n",
       " \"chive & onion cream cheese'\",\n",
       " 'chocolate-covered peanut butter cu',\n",
       " 'confectioners sugar',\n",
       " \"cookiesn' creme nuggets\",\n",
       " 'danish fars meatballs',\n",
       " \"devil's food cake mix\",\n",
       " \"dried cepes'\",\n",
       " \"dried leaf thyme'\",\n",
       " \"dry-roasted cashews'\",\n",
       " \"duck breast halves']\",\n",
       " 'fat free whole wheat tortilla',\n",
       " 'fish curry powde',\n",
       " 'frangelico liquer',\n",
       " \"fresh black pepper'\",\n",
       " 'frogâ€™s leg',\n",
       " 'frozen potato slice',\n",
       " \"gerber oatmeal cereal for baby'\",\n",
       " \"german sausages'\",\n",
       " 'high-fiber flour',\n",
       " 'honey dijon salad dressin',\n",
       " \"honey dijon salad dressin'\",\n",
       " \"hunt's tomato sauce\",\n",
       " \"hunt\\\\'s diced tomatoes with basil garlic and oregano\",\n",
       " \"huntâ€™'s tomato sauce\",\n",
       " 'illsbury grands refrigerated cinnamon rolls',\n",
       " 'instant maple and brown sugar oatmeal',\n",
       " 'kideny beans',\n",
       " 'lmond-flavored liqueur',\n",
       " \"lobster tail'\",\n",
       " 'low-fat vanilla puddin',\n",
       " 'maple and brown sugar oatmeal',\n",
       " \"margarita jell-o gelatin'\",\n",
       " 'massa harina mix',\n",
       " 'mayonnaise subsititute',\n",
       " 'miniature semisweet chocolate chip',\n",
       " 'morningstar farms bettern burgers',\n",
       " 'mortons tender quick',\n",
       " 'non-dairy whipped toppin',\n",
       " 'pasta noodle',\n",
       " 'pink champagn',\n",
       " 'portuguese roll',\n",
       " \"poultry seasoning'\",\n",
       " \"pumpkin soup'\",\n",
       " 'reduced fat italian sausage',\n",
       " 'roasting ba',\n",
       " \"rubbed sage'\",\n",
       " 'sachet dâ€™espices',\n",
       " 'seedless black grapes',\n",
       " 'sesame seed',\n",
       " 'store-bough bordelaise sauce',\n",
       " 'sugar free gelatin mix',\n",
       " \"sweet smoked paprika'\",\n",
       " 'sweetn low',\n",
       " 'sweetn low brown sugar substitute',\n",
       " 'sweetâ€™n low brown sugar substitute',\n",
       " 'taco bell home originals thickn chunky salsa',\n",
       " 'tagilatelle pasta noodles',\n",
       " 'tangerine juice of',\n",
       " 'tangerine zest of',\n",
       " 'tangerines juice of',\n",
       " 'tangerines zest of',\n",
       " 'unblanched whole almond',\n",
       " 'white chocolate bar',\n",
       " 'xxxx confectioners sugar']"
      ]
     },
     "execution_count": 300,
     "metadata": {},
     "output_type": "execute_result"
    }
   ],
   "source": []
  },
  {
   "cell_type": "code",
   "execution_count": null,
   "metadata": {},
   "outputs": [
    {
     "name": "stdout",
     "output_type": "stream",
     "text": [
      " * Serving Flask app \"__main__\" (lazy loading)\n",
      " * Environment: production\n",
      "\u001b[31m   WARNING: This is a development server. Do not use it in a production deployment.\u001b[0m\n",
      "\u001b[2m   Use a production WSGI server instead.\u001b[0m\n",
      " * Debug mode: off\n"
     ]
    },
    {
     "name": "stderr",
     "output_type": "stream",
     "text": [
      " * Running on http://127.0.0.1:5000/ (Press CTRL+C to quit)\n",
      "127.0.0.1 - - [29/Nov/2020 02:17:02] \"\u001b[37mGET / HTTP/1.1\u001b[0m\" 200 -\n",
      "127.0.0.1 - - [29/Nov/2020 02:17:07] \"\u001b[33mGET /action_page.php?other=100-calorie+snack+pack+tapioca+pudding HTTP/1.1\u001b[0m\" 404 -\n"
     ]
    }
   ],
   "source": [
    "from flask import Flask, render_template\n",
    "app = Flask(__name__)\n",
    "\n",
    "def query(v, p, g, d, f, o):\n",
    "    #insert query here\n",
    "\n",
    "@app.route(\"/\")\n",
    "def main():\n",
    "    if request.method == 'POST':\n",
    "        v = request.form.get('veggies')\n",
    "        p = request.form.get('protein')\n",
    "        g = request.form.get('grains')\n",
    "        d = request.form.get('dairy')\n",
    "        f = request.form.get('fruit')\n",
    "        o = request.form.get('other')\n",
    "        if request.form.get('submit') == True:\n",
    "            #run the query\n",
    "            recipe_output = query()\n",
    "            return render_template('result.html', recipe_output=recipe_output)\n",
    "    return render_template('index.html')\n",
    "\n",
    "\n",
    "\n",
    "if __name__ == \"__main__\":\n",
    "    app.run()"
   ]
  },
  {
   "cell_type": "code",
   "execution_count": null,
   "metadata": {},
   "outputs": [],
   "source": []
  }
 ],
 "metadata": {
  "kernelspec": {
   "display_name": "Python 3",
   "language": "python",
   "name": "python3"
  },
  "language_info": {
   "codemirror_mode": {
    "name": "ipython",
    "version": 3
   },
   "file_extension": ".py",
   "mimetype": "text/x-python",
   "name": "python",
   "nbconvert_exporter": "python",
   "pygments_lexer": "ipython3",
   "version": "3.8.4"
  }
 },
 "nbformat": 4,
 "nbformat_minor": 4
}
